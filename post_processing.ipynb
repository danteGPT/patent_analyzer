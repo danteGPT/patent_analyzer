{
 "cells": [
  {
   "cell_type": "markdown",
   "metadata": {},
   "source": [
    "### Read the csv files created by 'title' and 'abstract' modules\n",
    "and extract only appln_id of those and combine them. Also, I added a variable to show whether the data came from title or abstract."
   ]
  },
  {
   "cell_type": "code",
   "execution_count": 1,
   "metadata": {},
   "outputs": [],
   "source": [
    "import numpy as np\n",
    "import pandas.io.parsers as pd\n",
    "import os"
   ]
  },
  {
   "cell_type": "code",
   "execution_count": 2,
   "metadata": {},
   "outputs": [],
   "source": [
    "path = 'C:/Users/amir/OneDrive/projects/dr_Stevens/shared_folder/'"
   ]
  },
  {
   "cell_type": "code",
   "execution_count": 3,
   "metadata": {},
   "outputs": [],
   "source": [
    "files = []\n",
    "# r=root, d=directories, f = files\n",
    "for r, d, f in os.walk(path):\n",
    "    for file in f:\n",
    "        if ('.csv' in file) and ('2nd' in file):\n",
    "            files.append(os.path.join(r, file).replace(\"\\\\\",\"/\"))"
   ]
  },
  {
   "cell_type": "code",
   "execution_count": 4,
   "metadata": {},
   "outputs": [
    {
     "data": {
      "text/plain": [
       "['C:/Users/amir/OneDrive/projects/dr_Stevens/shared_folder/abstracts/tls203_part01/type1_2nd_filter.csv',\n",
       " 'C:/Users/amir/OneDrive/projects/dr_Stevens/shared_folder/abstracts/tls203_part01/type2_2nd_filter.csv',\n",
       " 'C:/Users/amir/OneDrive/projects/dr_Stevens/shared_folder/abstracts/tls203_part02/type1_2nd_filter.csv',\n",
       " 'C:/Users/amir/OneDrive/projects/dr_Stevens/shared_folder/abstracts/tls203_part02/type2_2nd_filter.csv',\n",
       " 'C:/Users/amir/OneDrive/projects/dr_Stevens/shared_folder/abstracts/tls203_part03/type1_2nd_filter.csv',\n",
       " 'C:/Users/amir/OneDrive/projects/dr_Stevens/shared_folder/abstracts/tls203_part03/type2_2nd_filter.csv',\n",
       " 'C:/Users/amir/OneDrive/projects/dr_Stevens/shared_folder/abstracts/tls203_part04/type1_2nd_filter.csv',\n",
       " 'C:/Users/amir/OneDrive/projects/dr_Stevens/shared_folder/abstracts/tls203_part04/type2_2nd_filter.csv',\n",
       " 'C:/Users/amir/OneDrive/projects/dr_Stevens/shared_folder/abstracts/tls203_part05/type1_2nd_filter.csv',\n",
       " 'C:/Users/amir/OneDrive/projects/dr_Stevens/shared_folder/abstracts/tls203_part05/type2_2nd_filter.csv',\n",
       " 'C:/Users/amir/OneDrive/projects/dr_Stevens/shared_folder/abstracts/tls203_part06/type1_2nd_filter.csv',\n",
       " 'C:/Users/amir/OneDrive/projects/dr_Stevens/shared_folder/abstracts/tls203_part06/type2_2nd_filter.csv',\n",
       " 'C:/Users/amir/OneDrive/projects/dr_Stevens/shared_folder/abstracts/tls203_part07/type1_2nd_filter.csv',\n",
       " 'C:/Users/amir/OneDrive/projects/dr_Stevens/shared_folder/abstracts/tls203_part07/type2_2nd_filter.csv',\n",
       " 'C:/Users/amir/OneDrive/projects/dr_Stevens/shared_folder/abstracts/tls203_part08/type1_2nd_filter.csv',\n",
       " 'C:/Users/amir/OneDrive/projects/dr_Stevens/shared_folder/abstracts/tls203_part08/type2_2nd_filter.csv',\n",
       " 'C:/Users/amir/OneDrive/projects/dr_Stevens/shared_folder/titles/type1_2nd_filter.csv',\n",
       " 'C:/Users/amir/OneDrive/projects/dr_Stevens/shared_folder/titles/type2_2nd_filter.csv']"
      ]
     },
     "execution_count": 4,
     "metadata": {},
     "output_type": "execute_result"
    }
   ],
   "source": [
    "files"
   ]
  },
  {
   "cell_type": "code",
   "execution_count": 5,
   "metadata": {},
   "outputs": [],
   "source": [
    "final_type_1 = pd.DataFrame(columns=['appln_id', 'source'])\n",
    "\n",
    "for file in files:\n",
    "    if 'type1' in file:\n",
    "        if 'title' in file:\n",
    "            content = pd.read_csv(file)\n",
    "            src = len(content['appln_id']) * ['title']\n",
    "            final = np.column_stack([content['appln_id'], src])\n",
    "            final = pd.DataFrame(final , columns = ['appln_id', 'source'])\n",
    "            final_type_1 = final_type_1.append(final)\n",
    "        elif 'abstract' in file:\n",
    "            content = pd.read_csv(file)\n",
    "            src = len(content['appln_id']) * ['abstract']\n",
    "            final = np.column_stack([content['appln_id'], src])\n",
    "            final = pd.DataFrame(final , columns = ['appln_id', 'source'])\n",
    "            final_type_1 = final_type_1.append(final)"
   ]
  },
  {
   "cell_type": "code",
   "execution_count": 18,
   "metadata": {},
   "outputs": [],
   "source": [
    "final_type_2 = pd.DataFrame(columns=['appln_id', 'source'])\n",
    "\n",
    "for file in files:\n",
    "    if 'type2' in file:\n",
    "        if 'title' in file:\n",
    "            content = pd.read_csv(file)\n",
    "            src = len(content['appln_id']) * ['title']\n",
    "            final = np.column_stack([content['appln_id'], src])\n",
    "            final = pd.DataFrame(final , columns = ['appln_id', 'source'])\n",
    "            final_type_2 = final_type_2.append(final)\n",
    "        elif 'abstract' in file:\n",
    "            content = pd.read_csv(file)\n",
    "            src = len(content['appln_id']) * ['abstract']\n",
    "            final = np.column_stack([content['appln_id'], src])\n",
    "            final = pd.DataFrame(final , columns = ['appln_id', 'source'])\n",
    "            final_type_2 = final_type_2.append(final)"
   ]
  },
  {
   "cell_type": "markdown",
   "metadata": {},
   "source": [
    "### Remove Duplicated from the data frames\n",
    "Because some keywords can be both in title and abstract"
   ]
  },
  {
   "cell_type": "code",
   "execution_count": 20,
   "metadata": {},
   "outputs": [],
   "source": [
    "final_type_1 = final_type_1.drop_duplicates(subset='appln_id', keep=\"first\")\n",
    "final_type_2 = final_type_2.drop_duplicates(subset='appln_id', keep=\"first\")"
   ]
  },
  {
   "cell_type": "code",
   "execution_count": 16,
   "metadata": {},
   "outputs": [],
   "source": [
    "final_type_1.to_csv('final_type_1.csv', index=False)\n",
    "final_type_2.to_csv('final_type_2.csv')"
   ]
  },
  {
   "cell_type": "code",
   "execution_count": null,
   "metadata": {},
   "outputs": [],
   "source": []
  }
 ],
 "metadata": {
  "kernelspec": {
   "display_name": "Python 3",
   "language": "python",
   "name": "python3"
  },
  "language_info": {
   "codemirror_mode": {
    "name": "ipython",
    "version": 3
   },
   "file_extension": ".py",
   "mimetype": "text/x-python",
   "name": "python",
   "nbconvert_exporter": "python",
   "pygments_lexer": "ipython3",
   "version": "3.7.6"
  }
 },
 "nbformat": 4,
 "nbformat_minor": 4
}
