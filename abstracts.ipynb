{
 "cells": [
  {
   "cell_type": "markdown",
   "metadata": {},
   "source": [
    "# Reader"
   ]
  },
  {
   "cell_type": "markdown",
   "metadata": {},
   "source": [
    "This module parses the database files"
   ]
  },
  {
   "cell_type": "markdown",
   "metadata": {},
   "source": [
    "### Import required libraries"
   ]
  },
  {
   "cell_type": "code",
   "execution_count": 1,
   "metadata": {},
   "outputs": [
    {
     "name": "stdout",
     "output_type": "stream",
     "text": [
      "['tls203_part01.txt', 'tls203_part02.txt', 'tls203_part03.txt', 'tls203_part04.txt', 'tls203_part05.txt', 'tls203_part07.txt', 'tls203_part08.txt']\n"
     ]
    }
   ],
   "source": [
    "import pandas.io.parsers as pd\n",
    "import parameters as p\n",
    "import numpy as np\n",
    "\n",
    "print(p.abstract_files)"
   ]
  },
  {
   "cell_type": "markdown",
   "metadata": {},
   "source": [
    "### Read the titles file"
   ]
  },
  {
   "cell_type": "code",
   "execution_count": 2,
   "metadata": {},
   "outputs": [],
   "source": [
    "# abstract_file_path = p.db_dir + p.abstract_files[7]\n",
    "abstract_file_path = 'C:/Users/amir/OneDrive/projects/dr_Stevens/data/tls203_part06.txt'"
   ]
  },
  {
   "cell_type": "code",
   "execution_count": 3,
   "metadata": {},
   "outputs": [],
   "source": [
    "abstracts = pd.read_csv(abstract_file_path, engine='python', error_bad_lines=False)"
   ]
  },
  {
   "cell_type": "markdown",
   "metadata": {},
   "source": [
    "### Show head of abstract file"
   ]
  },
  {
   "cell_type": "code",
   "execution_count": 4,
   "metadata": {},
   "outputs": [
    {
     "data": {
      "text/html": [
       "<div>\n",
       "<style scoped>\n",
       "    .dataframe tbody tr th:only-of-type {\n",
       "        vertical-align: middle;\n",
       "    }\n",
       "\n",
       "    .dataframe tbody tr th {\n",
       "        vertical-align: top;\n",
       "    }\n",
       "\n",
       "    .dataframe thead th {\n",
       "        text-align: right;\n",
       "    }\n",
       "</style>\n",
       "<table border=\"1\" class=\"dataframe\">\n",
       "  <thead>\n",
       "    <tr style=\"text-align: right;\">\n",
       "      <th></th>\n",
       "      <th>appln_id</th>\n",
       "      <th>appln_abstract_lg</th>\n",
       "      <th>appln_abstract</th>\n",
       "    </tr>\n",
       "  </thead>\n",
       "  <tbody>\n",
       "    <tr>\n",
       "      <th>0</th>\n",
       "      <td>424126322</td>\n",
       "      <td>en</td>\n",
       "      <td>A technique of ileoendoanal anastomosis provid...</td>\n",
       "    </tr>\n",
       "    <tr>\n",
       "      <th>1</th>\n",
       "      <td>424126324</td>\n",
       "      <td>en</td>\n",
       "      <td>A method for selection of pelvic-perineal colo...</td>\n",
       "    </tr>\n",
       "    <tr>\n",
       "      <th>2</th>\n",
       "      <td>424126326</td>\n",
       "      <td>en</td>\n",
       "      <td>A method for modeling rectal ampulla provides ...</td>\n",
       "    </tr>\n",
       "  </tbody>\n",
       "</table>\n",
       "</div>"
      ],
      "text/plain": [
       "    appln_id appln_abstract_lg  \\\n",
       "0  424126322                en   \n",
       "1  424126324                en   \n",
       "2  424126326                en   \n",
       "\n",
       "                                      appln_abstract  \n",
       "0  A technique of ileoendoanal anastomosis provid...  \n",
       "1  A method for selection of pelvic-perineal colo...  \n",
       "2  A method for modeling rectal ampulla provides ...  "
      ]
     },
     "execution_count": 4,
     "metadata": {},
     "output_type": "execute_result"
    }
   ],
   "source": [
    "abstracts.head(3)"
   ]
  },
  {
   "cell_type": "markdown",
   "metadata": {},
   "source": [
    "### Defining function for Searching the content for the keywords"
   ]
  },
  {
   "cell_type": "code",
   "execution_count": 5,
   "metadata": {},
   "outputs": [],
   "source": [
    "def search(df, *words):\n",
    "    return df[np.logical_or.reduce([df['appln_abstract'].str.contains(word) for word in words])]"
   ]
  },
  {
   "cell_type": "markdown",
   "metadata": {},
   "source": [
    "### Keep only english texts"
   ]
  },
  {
   "cell_type": "code",
   "execution_count": 6,
   "metadata": {},
   "outputs": [],
   "source": [
    "abstracts = abstracts[abstracts['appln_abstract_lg']=='en']"
   ]
  },
  {
   "cell_type": "markdown",
   "metadata": {},
   "source": [
    "### Drop rows including 'NA' data"
   ]
  },
  {
   "cell_type": "code",
   "execution_count": 7,
   "metadata": {},
   "outputs": [
    {
     "data": {
      "text/html": [
       "<div>\n",
       "<style scoped>\n",
       "    .dataframe tbody tr th:only-of-type {\n",
       "        vertical-align: middle;\n",
       "    }\n",
       "\n",
       "    .dataframe tbody tr th {\n",
       "        vertical-align: top;\n",
       "    }\n",
       "\n",
       "    .dataframe thead th {\n",
       "        text-align: right;\n",
       "    }\n",
       "</style>\n",
       "<table border=\"1\" class=\"dataframe\">\n",
       "  <thead>\n",
       "    <tr style=\"text-align: right;\">\n",
       "      <th></th>\n",
       "      <th>appln_id</th>\n",
       "      <th>appln_abstract_lg</th>\n",
       "      <th>appln_abstract</th>\n",
       "    </tr>\n",
       "  </thead>\n",
       "  <tbody>\n",
       "    <tr>\n",
       "      <th>0</th>\n",
       "      <td>424126322</td>\n",
       "      <td>en</td>\n",
       "      <td>A technique of ileoendoanal anastomosis provid...</td>\n",
       "    </tr>\n",
       "    <tr>\n",
       "      <th>1</th>\n",
       "      <td>424126324</td>\n",
       "      <td>en</td>\n",
       "      <td>A method for selection of pelvic-perineal colo...</td>\n",
       "    </tr>\n",
       "    <tr>\n",
       "      <th>2</th>\n",
       "      <td>424126326</td>\n",
       "      <td>en</td>\n",
       "      <td>A method for modeling rectal ampulla provides ...</td>\n",
       "    </tr>\n",
       "    <tr>\n",
       "      <th>3</th>\n",
       "      <td>424126328</td>\n",
       "      <td>en</td>\n",
       "      <td>A method for selection of rectal ampulla compr...</td>\n",
       "    </tr>\n",
       "    <tr>\n",
       "      <th>4</th>\n",
       "      <td>424126330</td>\n",
       "      <td>en</td>\n",
       "      <td>A method for assessing the indications to the ...</td>\n",
       "    </tr>\n",
       "  </tbody>\n",
       "</table>\n",
       "</div>"
      ],
      "text/plain": [
       "    appln_id appln_abstract_lg  \\\n",
       "0  424126322                en   \n",
       "1  424126324                en   \n",
       "2  424126326                en   \n",
       "3  424126328                en   \n",
       "4  424126330                en   \n",
       "\n",
       "                                      appln_abstract  \n",
       "0  A technique of ileoendoanal anastomosis provid...  \n",
       "1  A method for selection of pelvic-perineal colo...  \n",
       "2  A method for modeling rectal ampulla provides ...  \n",
       "3  A method for selection of rectal ampulla compr...  \n",
       "4  A method for assessing the indications to the ...  "
      ]
     },
     "execution_count": 7,
     "metadata": {},
     "output_type": "execute_result"
    }
   ],
   "source": [
    "abstracts = abstracts.dropna()\n",
    "abstracts.head()"
   ]
  },
  {
   "cell_type": "markdown",
   "metadata": {},
   "source": [
    "## - Type 1 patents"
   ]
  },
  {
   "cell_type": "markdown",
   "metadata": {},
   "source": [
    "#### Search for the keywords (1st filter)"
   ]
  },
  {
   "cell_type": "code",
   "execution_count": 8,
   "metadata": {},
   "outputs": [
    {
     "data": {
      "text/html": [
       "<div>\n",
       "<style scoped>\n",
       "    .dataframe tbody tr th:only-of-type {\n",
       "        vertical-align: middle;\n",
       "    }\n",
       "\n",
       "    .dataframe tbody tr th {\n",
       "        vertical-align: top;\n",
       "    }\n",
       "\n",
       "    .dataframe thead th {\n",
       "        text-align: right;\n",
       "    }\n",
       "</style>\n",
       "<table border=\"1\" class=\"dataframe\">\n",
       "  <thead>\n",
       "    <tr style=\"text-align: right;\">\n",
       "      <th></th>\n",
       "      <th>appln_id</th>\n",
       "      <th>appln_abstract_lg</th>\n",
       "      <th>appln_abstract</th>\n",
       "    </tr>\n",
       "  </thead>\n",
       "  <tbody>\n",
       "    <tr>\n",
       "      <th>733</th>\n",
       "      <td>424127796</td>\n",
       "      <td>en</td>\n",
       "      <td>A main gas pipeline includes linear section wi...</td>\n",
       "    </tr>\n",
       "    <tr>\n",
       "      <th>1205</th>\n",
       "      <td>424128750</td>\n",
       "      <td>en</td>\n",
       "      <td>The invention relates to mechanical engineerin...</td>\n",
       "    </tr>\n",
       "    <tr>\n",
       "      <th>1236</th>\n",
       "      <td>424128812</td>\n",
       "      <td>en</td>\n",
       "      <td>A temperature differential engine device inclu...</td>\n",
       "    </tr>\n",
       "    <tr>\n",
       "      <th>2994</th>\n",
       "      <td>424134342</td>\n",
       "      <td>en</td>\n",
       "      <td>A gas turbine engine blade (22), including an ...</td>\n",
       "    </tr>\n",
       "    <tr>\n",
       "      <th>3200</th>\n",
       "      <td>424137972</td>\n",
       "      <td>en</td>\n",
       "      <td>A Helmholtz damper (24), especially for dampin...</td>\n",
       "    </tr>\n",
       "  </tbody>\n",
       "</table>\n",
       "</div>"
      ],
      "text/plain": [
       "       appln_id appln_abstract_lg  \\\n",
       "733   424127796                en   \n",
       "1205  424128750                en   \n",
       "1236  424128812                en   \n",
       "2994  424134342                en   \n",
       "3200  424137972                en   \n",
       "\n",
       "                                         appln_abstract  \n",
       "733   A main gas pipeline includes linear section wi...  \n",
       "1205  The invention relates to mechanical engineerin...  \n",
       "1236  A temperature differential engine device inclu...  \n",
       "2994  A gas turbine engine blade (22), including an ...  \n",
       "3200  A Helmholtz damper (24), especially for dampin...  "
      ]
     },
     "execution_count": 8,
     "metadata": {},
     "output_type": "execute_result"
    }
   ],
   "source": [
    "import parameters as p\n",
    "desired_abstracts = search(abstracts, *p.type_1_keywords_1)\n",
    "desired_abstracts.to_csv('type1_1st_filter.csv')\n",
    "desired_abstracts.head()"
   ]
  },
  {
   "cell_type": "markdown",
   "metadata": {},
   "source": [
    "#### Search for the keywords (2nd filter)"
   ]
  },
  {
   "cell_type": "code",
   "execution_count": 9,
   "metadata": {},
   "outputs": [
    {
     "data": {
      "text/html": [
       "<div>\n",
       "<style scoped>\n",
       "    .dataframe tbody tr th:only-of-type {\n",
       "        vertical-align: middle;\n",
       "    }\n",
       "\n",
       "    .dataframe tbody tr th {\n",
       "        vertical-align: top;\n",
       "    }\n",
       "\n",
       "    .dataframe thead th {\n",
       "        text-align: right;\n",
       "    }\n",
       "</style>\n",
       "<table border=\"1\" class=\"dataframe\">\n",
       "  <thead>\n",
       "    <tr style=\"text-align: right;\">\n",
       "      <th></th>\n",
       "      <th>appln_id</th>\n",
       "      <th>appln_abstract_lg</th>\n",
       "      <th>appln_abstract</th>\n",
       "    </tr>\n",
       "  </thead>\n",
       "  <tbody>\n",
       "    <tr>\n",
       "      <th>13175</th>\n",
       "      <td>424162500</td>\n",
       "      <td>en</td>\n",
       "      <td>The invention discloses a brown coal drying po...</td>\n",
       "    </tr>\n",
       "    <tr>\n",
       "      <th>33805</th>\n",
       "      <td>424229190</td>\n",
       "      <td>en</td>\n",
       "      <td>The utility model relates to the field of LEDs...</td>\n",
       "    </tr>\n",
       "    <tr>\n",
       "      <th>38627</th>\n",
       "      <td>424245236</td>\n",
       "      <td>en</td>\n",
       "      <td>A gas turbine engine fuel system has an ecolog...</td>\n",
       "    </tr>\n",
       "    <tr>\n",
       "      <th>147955</th>\n",
       "      <td>424736880</td>\n",
       "      <td>en</td>\n",
       "      <td>The utility model relates to a heat storage re...</td>\n",
       "    </tr>\n",
       "    <tr>\n",
       "      <th>149779</th>\n",
       "      <td>424740528</td>\n",
       "      <td>en</td>\n",
       "      <td>The utility model discloses a wide range bypas...</td>\n",
       "    </tr>\n",
       "  </tbody>\n",
       "</table>\n",
       "</div>"
      ],
      "text/plain": [
       "         appln_id appln_abstract_lg  \\\n",
       "13175   424162500                en   \n",
       "33805   424229190                en   \n",
       "38627   424245236                en   \n",
       "147955  424736880                en   \n",
       "149779  424740528                en   \n",
       "\n",
       "                                           appln_abstract  \n",
       "13175   The invention discloses a brown coal drying po...  \n",
       "33805   The utility model relates to the field of LEDs...  \n",
       "38627   A gas turbine engine fuel system has an ecolog...  \n",
       "147955  The utility model relates to a heat storage re...  \n",
       "149779  The utility model discloses a wide range bypas...  "
      ]
     },
     "execution_count": 9,
     "metadata": {},
     "output_type": "execute_result"
    }
   ],
   "source": [
    "desired_abstracts = search(desired_abstracts, *p.type_1_keywords_2)\n",
    "desired_abstracts.to_csv('type1_2nd_filter.csv')\n",
    "desired_abstracts.head()"
   ]
  },
  {
   "cell_type": "markdown",
   "metadata": {},
   "source": [
    "## - Type 2 patents"
   ]
  },
  {
   "cell_type": "code",
   "execution_count": 10,
   "metadata": {},
   "outputs": [
    {
     "data": {
      "text/html": [
       "<div>\n",
       "<style scoped>\n",
       "    .dataframe tbody tr th:only-of-type {\n",
       "        vertical-align: middle;\n",
       "    }\n",
       "\n",
       "    .dataframe tbody tr th {\n",
       "        vertical-align: top;\n",
       "    }\n",
       "\n",
       "    .dataframe thead th {\n",
       "        text-align: right;\n",
       "    }\n",
       "</style>\n",
       "<table border=\"1\" class=\"dataframe\">\n",
       "  <thead>\n",
       "    <tr style=\"text-align: right;\">\n",
       "      <th></th>\n",
       "      <th>appln_id</th>\n",
       "      <th>appln_abstract_lg</th>\n",
       "      <th>appln_abstract</th>\n",
       "    </tr>\n",
       "  </thead>\n",
       "  <tbody>\n",
       "    <tr>\n",
       "      <th>17</th>\n",
       "      <td>424126356</td>\n",
       "      <td>en</td>\n",
       "      <td>A process for preparing organically modified m...</td>\n",
       "    </tr>\n",
       "    <tr>\n",
       "      <th>52</th>\n",
       "      <td>424126427</td>\n",
       "      <td>en</td>\n",
       "      <td>A packaging film comprises polyolefin or a ble...</td>\n",
       "    </tr>\n",
       "    <tr>\n",
       "      <th>121</th>\n",
       "      <td>424126565</td>\n",
       "      <td>en</td>\n",
       "      <td>The present invention relates to the productio...</td>\n",
       "    </tr>\n",
       "    <tr>\n",
       "      <th>153</th>\n",
       "      <td>424126629</td>\n",
       "      <td>en</td>\n",
       "      <td>Disclosed is a method for cooling high-tempera...</td>\n",
       "    </tr>\n",
       "    <tr>\n",
       "      <th>203</th>\n",
       "      <td>424126729</td>\n",
       "      <td>en</td>\n",
       "      <td>The invention relates to equipment for gasific...</td>\n",
       "    </tr>\n",
       "  </tbody>\n",
       "</table>\n",
       "</div>"
      ],
      "text/plain": [
       "      appln_id appln_abstract_lg  \\\n",
       "17   424126356                en   \n",
       "52   424126427                en   \n",
       "121  424126565                en   \n",
       "153  424126629                en   \n",
       "203  424126729                en   \n",
       "\n",
       "                                        appln_abstract  \n",
       "17   A process for preparing organically modified m...  \n",
       "52   A packaging film comprises polyolefin or a ble...  \n",
       "121  The present invention relates to the productio...  \n",
       "153  Disclosed is a method for cooling high-tempera...  \n",
       "203  The invention relates to equipment for gasific...  "
      ]
     },
     "execution_count": 10,
     "metadata": {},
     "output_type": "execute_result"
    }
   ],
   "source": [
    "import parameters as p\n",
    "desired_abstracts = search(abstracts, *p.type_2_keywords_1)\n",
    "desired_abstracts.to_csv('type2_1st_filter.csv')\n",
    "desired_abstracts.head()"
   ]
  },
  {
   "cell_type": "code",
   "execution_count": 11,
   "metadata": {},
   "outputs": [
    {
     "data": {
      "text/html": [
       "<div>\n",
       "<style scoped>\n",
       "    .dataframe tbody tr th:only-of-type {\n",
       "        vertical-align: middle;\n",
       "    }\n",
       "\n",
       "    .dataframe tbody tr th {\n",
       "        vertical-align: top;\n",
       "    }\n",
       "\n",
       "    .dataframe thead th {\n",
       "        text-align: right;\n",
       "    }\n",
       "</style>\n",
       "<table border=\"1\" class=\"dataframe\">\n",
       "  <thead>\n",
       "    <tr style=\"text-align: right;\">\n",
       "      <th></th>\n",
       "      <th>appln_id</th>\n",
       "      <th>appln_abstract_lg</th>\n",
       "      <th>appln_abstract</th>\n",
       "    </tr>\n",
       "  </thead>\n",
       "  <tbody>\n",
       "    <tr>\n",
       "      <th>203</th>\n",
       "      <td>424126729</td>\n",
       "      <td>en</td>\n",
       "      <td>The invention relates to equipment for gasific...</td>\n",
       "    </tr>\n",
       "    <tr>\n",
       "      <th>283</th>\n",
       "      <td>424126892</td>\n",
       "      <td>en</td>\n",
       "      <td>A method for clarification of diffusion juice ...</td>\n",
       "    </tr>\n",
       "    <tr>\n",
       "      <th>367</th>\n",
       "      <td>424127060</td>\n",
       "      <td>en</td>\n",
       "      <td>A process for purification of ground water fro...</td>\n",
       "    </tr>\n",
       "    <tr>\n",
       "      <th>2373</th>\n",
       "      <td>424131117</td>\n",
       "      <td>en</td>\n",
       "      <td>An installation for extraction of carbon dioxi...</td>\n",
       "    </tr>\n",
       "    <tr>\n",
       "      <th>3241</th>\n",
       "      <td>424142462</td>\n",
       "      <td>en</td>\n",
       "      <td>The present invention provides a non-aqueous e...</td>\n",
       "    </tr>\n",
       "  </tbody>\n",
       "</table>\n",
       "</div>"
      ],
      "text/plain": [
       "       appln_id appln_abstract_lg  \\\n",
       "203   424126729                en   \n",
       "283   424126892                en   \n",
       "367   424127060                en   \n",
       "2373  424131117                en   \n",
       "3241  424142462                en   \n",
       "\n",
       "                                         appln_abstract  \n",
       "203   The invention relates to equipment for gasific...  \n",
       "283   A method for clarification of diffusion juice ...  \n",
       "367   A process for purification of ground water fro...  \n",
       "2373  An installation for extraction of carbon dioxi...  \n",
       "3241  The present invention provides a non-aqueous e...  "
      ]
     },
     "execution_count": 11,
     "metadata": {},
     "output_type": "execute_result"
    }
   ],
   "source": [
    "desired_abstracts = search(desired_abstracts, *p.type_2_keywords_2)\n",
    "desired_abstracts.to_csv('type2_2nd_filter.csv')\n",
    "desired_abstracts.head()"
   ]
  },
  {
   "cell_type": "code",
   "execution_count": null,
   "metadata": {},
   "outputs": [],
   "source": []
  }
 ],
 "metadata": {
  "kernelspec": {
   "display_name": "Python 3",
   "language": "python",
   "name": "python3"
  },
  "language_info": {
   "codemirror_mode": {
    "name": "ipython",
    "version": 3
   },
   "file_extension": ".py",
   "mimetype": "text/x-python",
   "name": "python",
   "nbconvert_exporter": "python",
   "pygments_lexer": "ipython3",
   "version": "3.7.6"
  }
 },
 "nbformat": 4,
 "nbformat_minor": 4
}
