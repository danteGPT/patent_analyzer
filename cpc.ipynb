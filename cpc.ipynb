{
 "cells": [
  {
   "cell_type": "markdown",
   "metadata": {},
   "source": [
    "### Importing Important Libraries"
   ]
  },
  {
   "cell_type": "code",
   "execution_count": 1,
   "metadata": {},
   "outputs": [],
   "source": [
    "import pandas as pd\n",
    "import parameters as p"
   ]
  },
  {
   "cell_type": "markdown",
   "metadata": {},
   "source": [
    "### Read appln_id related to type_1 or type_2 patents"
   ]
  },
  {
   "cell_type": "code",
   "execution_count": 2,
   "metadata": {},
   "outputs": [],
   "source": [
    "appln_id_1 = pd.read_csv('input/final_type_1.csv')['appln_id']\n",
    "appln_id_2 = pd.read_csv('input/final_type_2.csv')['appln_id']"
   ]
  },
  {
   "cell_type": "code",
   "execution_count": 3,
   "metadata": {},
   "outputs": [
    {
     "data": {
      "text/plain": [
       "0           12343\n",
       "1           78313\n",
       "2          119068\n",
       "3          126543\n",
       "4          194282\n",
       "          ...    \n",
       "1668    458355326\n",
       "1669    469499059\n",
       "1670    473833985\n",
       "1671    493250368\n",
       "1672    496437409\n",
       "Name: appln_id, Length: 1673, dtype: int64"
      ]
     },
     "execution_count": 3,
     "metadata": {},
     "output_type": "execute_result"
    }
   ],
   "source": [
    "appln_id_1"
   ]
  },
  {
   "cell_type": "markdown",
   "metadata": {},
   "source": [
    "### Reading total CPC codes for every appln_id"
   ]
  },
  {
   "cell_type": "code",
   "execution_count": 6,
   "metadata": {},
   "outputs": [],
   "source": [
    "file = pd.read_pickle('input/cpc_total.pkl')"
   ]
  },
  {
   "cell_type": "markdown",
   "metadata": {},
   "source": [
    "### Extract part of CPC codes related to type_1 and type_2 patents respectively"
   ]
  },
  {
   "cell_type": "code",
   "execution_count": 7,
   "metadata": {},
   "outputs": [],
   "source": [
    "cpc_1 = file[file['appln_id'].isin(appln_id_1)]\n",
    "cpc_2 = file[file['appln_id'].isin(appln_id_2)]"
   ]
  },
  {
   "cell_type": "code",
   "execution_count": 8,
   "metadata": {},
   "outputs": [
    {
     "data": {
      "text/html": [
       "<div>\n",
       "<style scoped>\n",
       "    .dataframe tbody tr th:only-of-type {\n",
       "        vertical-align: middle;\n",
       "    }\n",
       "\n",
       "    .dataframe tbody tr th {\n",
       "        vertical-align: top;\n",
       "    }\n",
       "\n",
       "    .dataframe thead th {\n",
       "        text-align: right;\n",
       "    }\n",
       "</style>\n",
       "<table border=\"1\" class=\"dataframe\">\n",
       "  <thead>\n",
       "    <tr style=\"text-align: right;\">\n",
       "      <th></th>\n",
       "      <th>appln_id</th>\n",
       "      <th>cpc_class_symbol</th>\n",
       "    </tr>\n",
       "  </thead>\n",
       "  <tbody>\n",
       "    <tr>\n",
       "      <th>45310</th>\n",
       "      <td>12343</td>\n",
       "      <td>F01K  13/02</td>\n",
       "    </tr>\n",
       "    <tr>\n",
       "      <th>298030</th>\n",
       "      <td>78313</td>\n",
       "      <td>B01D  53/002</td>\n",
       "    </tr>\n",
       "    <tr>\n",
       "      <th>298031</th>\n",
       "      <td>78313</td>\n",
       "      <td>B01D  53/62</td>\n",
       "    </tr>\n",
       "    <tr>\n",
       "      <th>298032</th>\n",
       "      <td>78313</td>\n",
       "      <td>B01D2257/504</td>\n",
       "    </tr>\n",
       "    <tr>\n",
       "      <th>298033</th>\n",
       "      <td>78313</td>\n",
       "      <td>F01K   7/16</td>\n",
       "    </tr>\n",
       "    <tr>\n",
       "      <th>...</th>\n",
       "      <td>...</td>\n",
       "      <td>...</td>\n",
       "    </tr>\n",
       "    <tr>\n",
       "      <th>89503548</th>\n",
       "      <td>505778141</td>\n",
       "      <td>C22C   1/02</td>\n",
       "    </tr>\n",
       "    <tr>\n",
       "      <th>89503549</th>\n",
       "      <td>505778141</td>\n",
       "      <td>C22C   1/023</td>\n",
       "    </tr>\n",
       "    <tr>\n",
       "      <th>89503550</th>\n",
       "      <td>505778141</td>\n",
       "      <td>C22F   1/10</td>\n",
       "    </tr>\n",
       "    <tr>\n",
       "      <th>89503551</th>\n",
       "      <td>505778141</td>\n",
       "      <td>Y02P  10/224</td>\n",
       "    </tr>\n",
       "    <tr>\n",
       "      <th>89503552</th>\n",
       "      <td>505778141</td>\n",
       "      <td>Y02T  50/6765</td>\n",
       "    </tr>\n",
       "  </tbody>\n",
       "</table>\n",
       "<p>6882 rows × 2 columns</p>\n",
       "</div>"
      ],
      "text/plain": [
       "           appln_id cpc_class_symbol\n",
       "45310         12343      F01K  13/02\n",
       "298030        78313     B01D  53/002\n",
       "298031        78313      B01D  53/62\n",
       "298032        78313     B01D2257/504\n",
       "298033        78313      F01K   7/16\n",
       "...             ...              ...\n",
       "89503548  505778141      C22C   1/02\n",
       "89503549  505778141     C22C   1/023\n",
       "89503550  505778141      C22F   1/10\n",
       "89503551  505778141     Y02P  10/224\n",
       "89503552  505778141    Y02T  50/6765\n",
       "\n",
       "[6882 rows x 2 columns]"
      ]
     },
     "execution_count": 8,
     "metadata": {},
     "output_type": "execute_result"
    }
   ],
   "source": [
    "cpc_1"
   ]
  },
  {
   "cell_type": "markdown",
   "metadata": {},
   "source": [
    "### To combine IPC codes for the rows with same appln_id"
   ]
  },
  {
   "cell_type": "code",
   "execution_count": 9,
   "metadata": {},
   "outputs": [],
   "source": [
    "cpc_1 = cpc_1.groupby('appln_id')['cpc_class_symbol'].unique()\n",
    "cpc_2 = cpc_2.groupby('appln_id')['cpc_class_symbol'].unique()"
   ]
  },
  {
   "cell_type": "code",
   "execution_count": 10,
   "metadata": {},
   "outputs": [
    {
     "data": {
      "text/plain": [
       "appln_id\n",
       "12343                                            [F01K  13/02]\n",
       "78313        [B01D  53/002, B01D  53/62, B01D2257/504, F01K...\n",
       "119068       [F01D   1/00, F01D  19/02, F01K   3/004, F01K ...\n",
       "126543       [C23C   4/04, C23C  28/027, C23C  28/028, F01D...\n",
       "194282       [C23C  26/00, C23C  28/027, C23C  28/028, Y02T...\n",
       "                                   ...                        \n",
       "502884161             [F01D  25/34, F02C   7/275, F02C   7/32]\n",
       "504988704    [F01K   9/00, F01K  13/02, F01K  23/04, F01K  ...\n",
       "505207466                           [F02C   6/18, F02C   7/08]\n",
       "505207743                                       [F02C   7/236]\n",
       "505778141    [B09B   3/00, B09B   3/0083, C22B   7/00, C22B...\n",
       "Name: cpc_class_symbol, Length: 1325, dtype: object"
      ]
     },
     "execution_count": 10,
     "metadata": {},
     "output_type": "execute_result"
    }
   ],
   "source": [
    "cpc_1"
   ]
  },
  {
   "cell_type": "code",
   "execution_count": 11,
   "metadata": {},
   "outputs": [],
   "source": [
    "cpc_1.to_pickle('cpc_type_1.pkl')\n",
    "cpc_2.to_pickle('cpc_type_2.pkl')"
   ]
  }
 ],
 "metadata": {
  "kernelspec": {
   "display_name": "Python 3",
   "language": "python",
   "name": "python3"
  },
  "language_info": {
   "codemirror_mode": {
    "name": "ipython",
    "version": 3
   },
   "file_extension": ".py",
   "mimetype": "text/x-python",
   "name": "python",
   "nbconvert_exporter": "python",
   "pygments_lexer": "ipython3",
   "version": "3.7.6"
  }
 },
 "nbformat": 4,
 "nbformat_minor": 4
}
