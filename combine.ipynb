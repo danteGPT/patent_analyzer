{
 "cells": [
  {
   "cell_type": "markdown",
   "metadata": {},
   "source": [
    "# This module combines: appln_id; ipc code and cpc codes for type 1 and type 2 patents"
   ]
  },
  {
   "cell_type": "markdown",
   "metadata": {},
   "source": [
    "### Import Important Libraries"
   ]
  },
  {
   "cell_type": "code",
   "execution_count": 1,
   "metadata": {},
   "outputs": [],
   "source": [
    "import pandas as pd"
   ]
  },
  {
   "cell_type": "markdown",
   "metadata": {},
   "source": [
    "### Import DataFrames"
   ]
  },
  {
   "cell_type": "code",
   "execution_count": 35,
   "metadata": {},
   "outputs": [],
   "source": [
    "ipc_1 = pd.read_pickle('input/ipc_type_1.pkl')\n",
    "ipc_2 = pd.read_pickle('input/ipc_type_2.pkl')\n",
    "cpc_1 = pd.read_pickle('input/cpc_type_1.pkl')\n",
    "cpc_2 = pd.read_pickle('input/cpc_type_2.pkl')"
   ]
  },
  {
   "cell_type": "markdown",
   "metadata": {},
   "source": [
    "Since pandas import pickled dataframes as series, they need to be converted to dataframe again"
   ]
  },
  {
   "cell_type": "code",
   "execution_count": 36,
   "metadata": {},
   "outputs": [],
   "source": [
    "ipc_1 = pd.DataFrame(ipc_1)\n",
    "ipc_2 = pd.DataFrame(ipc_2)\n",
    "cpc_1 = pd.DataFrame(cpc_1)\n",
    "cpc_2 = pd.DataFrame(cpc_2)"
   ]
  },
  {
   "cell_type": "markdown",
   "metadata": {},
   "source": [
    "### Combine type 1 and type 2 data"
   ]
  },
  {
   "cell_type": "code",
   "execution_count": 47,
   "metadata": {},
   "outputs": [],
   "source": [
    "type_1 = pd.concat([ipc_1, cpc_1], axis=1, join='inner')\n",
    "type_2 = pd.concat([ipc_2, cpc_2], axis=1, join='inner')"
   ]
  },
  {
   "cell_type": "code",
   "execution_count": 50,
   "metadata": {},
   "outputs": [
    {
     "data": {
      "text/html": [
       "<div>\n",
       "<style scoped>\n",
       "    .dataframe tbody tr th:only-of-type {\n",
       "        vertical-align: middle;\n",
       "    }\n",
       "\n",
       "    .dataframe tbody tr th {\n",
       "        vertical-align: top;\n",
       "    }\n",
       "\n",
       "    .dataframe thead th {\n",
       "        text-align: right;\n",
       "    }\n",
       "</style>\n",
       "<table border=\"1\" class=\"dataframe\">\n",
       "  <thead>\n",
       "    <tr style=\"text-align: right;\">\n",
       "      <th></th>\n",
       "      <th>ipc_class_symbol</th>\n",
       "      <th>cpc_class_symbol</th>\n",
       "    </tr>\n",
       "    <tr>\n",
       "      <th>appln_id</th>\n",
       "      <th></th>\n",
       "      <th></th>\n",
       "    </tr>\n",
       "  </thead>\n",
       "  <tbody>\n",
       "    <tr>\n",
       "      <th>12343</th>\n",
       "      <td>[F01K  13/02]</td>\n",
       "      <td>[F01K  13/02]</td>\n",
       "    </tr>\n",
       "    <tr>\n",
       "      <th>78313</th>\n",
       "      <td>[F23J  15/06, F23L   7/00, F23N   3/00]</td>\n",
       "      <td>[B01D  53/002, B01D  53/62, B01D2257/504, F01K...</td>\n",
       "    </tr>\n",
       "    <tr>\n",
       "      <th>119068</th>\n",
       "      <td>[F01D  19/00, F01K   3/00, F01K   3/04, F01K  ...</td>\n",
       "      <td>[F01D   1/00, F01D  19/02, F01K   3/004, F01K ...</td>\n",
       "    </tr>\n",
       "    <tr>\n",
       "      <th>126543</th>\n",
       "      <td>[C23C   4/04, C23C  28/02, C23C  28/04, F01D  ...</td>\n",
       "      <td>[C23C   4/04, C23C  28/027, C23C  28/028, F01D...</td>\n",
       "    </tr>\n",
       "    <tr>\n",
       "      <th>194282</th>\n",
       "      <td>[C23C  26/00, C23C  28/04]</td>\n",
       "      <td>[C23C  26/00, C23C  28/027, C23C  28/028, Y02T...</td>\n",
       "    </tr>\n",
       "    <tr>\n",
       "      <th>...</th>\n",
       "      <td>...</td>\n",
       "      <td>...</td>\n",
       "    </tr>\n",
       "    <tr>\n",
       "      <th>502884161</th>\n",
       "      <td>[F01D  25/34, F02C   7/275, F02C   7/32]</td>\n",
       "      <td>[F01D  25/34, F02C   7/275, F02C   7/32]</td>\n",
       "    </tr>\n",
       "    <tr>\n",
       "      <th>504988704</th>\n",
       "      <td>[F01K  23/10]</td>\n",
       "      <td>[F01K   9/00, F01K  13/02, F01K  23/04, F01K  ...</td>\n",
       "    </tr>\n",
       "    <tr>\n",
       "      <th>505207466</th>\n",
       "      <td>[F02C   6/18, F02C   7/08]</td>\n",
       "      <td>[F02C   6/18, F02C   7/08]</td>\n",
       "    </tr>\n",
       "    <tr>\n",
       "      <th>505207743</th>\n",
       "      <td>[F02C   7/236]</td>\n",
       "      <td>[F02C   7/236]</td>\n",
       "    </tr>\n",
       "    <tr>\n",
       "      <th>505778141</th>\n",
       "      <td>[C22B   7/00, C22C   1/02, C22F   1/10]</td>\n",
       "      <td>[B09B   3/00, B09B   3/0083, C22B   7/00, C22B...</td>\n",
       "    </tr>\n",
       "  </tbody>\n",
       "</table>\n",
       "<p>1325 rows × 2 columns</p>\n",
       "</div>"
      ],
      "text/plain": [
       "                                            ipc_class_symbol  \\\n",
       "appln_id                                                       \n",
       "12343                                          [F01K  13/02]   \n",
       "78313                [F23J  15/06, F23L   7/00, F23N   3/00]   \n",
       "119068     [F01D  19/00, F01K   3/00, F01K   3/04, F01K  ...   \n",
       "126543     [C23C   4/04, C23C  28/02, C23C  28/04, F01D  ...   \n",
       "194282                            [C23C  26/00, C23C  28/04]   \n",
       "...                                                      ...   \n",
       "502884161           [F01D  25/34, F02C   7/275, F02C   7/32]   \n",
       "504988704                                      [F01K  23/10]   \n",
       "505207466                         [F02C   6/18, F02C   7/08]   \n",
       "505207743                                     [F02C   7/236]   \n",
       "505778141            [C22B   7/00, C22C   1/02, C22F   1/10]   \n",
       "\n",
       "                                            cpc_class_symbol  \n",
       "appln_id                                                      \n",
       "12343                                          [F01K  13/02]  \n",
       "78313      [B01D  53/002, B01D  53/62, B01D2257/504, F01K...  \n",
       "119068     [F01D   1/00, F01D  19/02, F01K   3/004, F01K ...  \n",
       "126543     [C23C   4/04, C23C  28/027, C23C  28/028, F01D...  \n",
       "194282     [C23C  26/00, C23C  28/027, C23C  28/028, Y02T...  \n",
       "...                                                      ...  \n",
       "502884161           [F01D  25/34, F02C   7/275, F02C   7/32]  \n",
       "504988704  [F01K   9/00, F01K  13/02, F01K  23/04, F01K  ...  \n",
       "505207466                         [F02C   6/18, F02C   7/08]  \n",
       "505207743                                     [F02C   7/236]  \n",
       "505778141  [B09B   3/00, B09B   3/0083, C22B   7/00, C22B...  \n",
       "\n",
       "[1325 rows x 2 columns]"
      ]
     },
     "execution_count": 50,
     "metadata": {},
     "output_type": "execute_result"
    }
   ],
   "source": [
    "type_1"
   ]
  },
  {
   "cell_type": "code",
   "execution_count": 51,
   "metadata": {},
   "outputs": [
    {
     "data": {
      "text/html": [
       "<div>\n",
       "<style scoped>\n",
       "    .dataframe tbody tr th:only-of-type {\n",
       "        vertical-align: middle;\n",
       "    }\n",
       "\n",
       "    .dataframe tbody tr th {\n",
       "        vertical-align: top;\n",
       "    }\n",
       "\n",
       "    .dataframe thead th {\n",
       "        text-align: right;\n",
       "    }\n",
       "</style>\n",
       "<table border=\"1\" class=\"dataframe\">\n",
       "  <thead>\n",
       "    <tr style=\"text-align: right;\">\n",
       "      <th></th>\n",
       "      <th>ipc_class_symbol</th>\n",
       "      <th>cpc_class_symbol</th>\n",
       "    </tr>\n",
       "    <tr>\n",
       "      <th>appln_id</th>\n",
       "      <th></th>\n",
       "      <th></th>\n",
       "    </tr>\n",
       "  </thead>\n",
       "  <tbody>\n",
       "    <tr>\n",
       "      <th>354</th>\n",
       "      <td>[C01B   3/12, F23K   5/00]</td>\n",
       "      <td>[C01B   3/12, C01B   3/48, C01B2203/0288, C01B...</td>\n",
       "    </tr>\n",
       "    <tr>\n",
       "      <th>1793</th>\n",
       "      <td>[C07C   1/04, C10G   2/00]</td>\n",
       "      <td>[B01J   8/007, B01J   8/085, B01J   8/1818, B0...</td>\n",
       "    </tr>\n",
       "    <tr>\n",
       "      <th>2018</th>\n",
       "      <td>[C08F  26/06, C08F 220/56, C08G  64/18, C08L  ...</td>\n",
       "      <td>[C08G  77/442, C08G  77/448, C08L  33/14, C08L...</td>\n",
       "    </tr>\n",
       "    <tr>\n",
       "      <th>2392</th>\n",
       "      <td>[B01F   7/02, B01F  15/02, B03B   1/00, B03D  ...</td>\n",
       "      <td>[B01F   3/1221, B01F   7/048, B01F  15/0251, B...</td>\n",
       "    </tr>\n",
       "    <tr>\n",
       "      <th>3204</th>\n",
       "      <td>[C07D 307/12, C10L   1/18, C10L  10/12]</td>\n",
       "      <td>[C07D 307/12, C10L   1/02, C10L   1/1855, C10L...</td>\n",
       "    </tr>\n",
       "    <tr>\n",
       "      <th>...</th>\n",
       "      <td>...</td>\n",
       "      <td>...</td>\n",
       "    </tr>\n",
       "    <tr>\n",
       "      <th>506455363</th>\n",
       "      <td>[B01D  53/14, B01D  53/18]</td>\n",
       "      <td>[B01D  53/1412, B01D  53/1475, B01D  53/18, B0...</td>\n",
       "    </tr>\n",
       "    <tr>\n",
       "      <th>506455827</th>\n",
       "      <td>[A21D   8/00, A21D   8/02, A21D   8/04, A21D  ...</td>\n",
       "      <td>[A21D   2/186, A21D   2/26, A21D   8/047, A21D...</td>\n",
       "    </tr>\n",
       "    <tr>\n",
       "      <th>506456602</th>\n",
       "      <td>[F25J   3/02]</td>\n",
       "      <td>[B01D   1/06, B01D   1/20, B01D   3/007, C10G ...</td>\n",
       "    </tr>\n",
       "    <tr>\n",
       "      <th>506457240</th>\n",
       "      <td>[C07C  43/20, C09B  69/10, G01N  33/00]</td>\n",
       "      <td>[C08K   5/06, C09D   5/00, C09D   5/004, C09D ...</td>\n",
       "    </tr>\n",
       "    <tr>\n",
       "      <th>506457960</th>\n",
       "      <td>[C07C  43/188, C07C  43/20, C09D   5/02, C09D ...</td>\n",
       "      <td>[C08K   5/06, C09D   5/004, C09D   5/024, C09D...</td>\n",
       "    </tr>\n",
       "  </tbody>\n",
       "</table>\n",
       "<p>62945 rows × 2 columns</p>\n",
       "</div>"
      ],
      "text/plain": [
       "                                            ipc_class_symbol  \\\n",
       "appln_id                                                       \n",
       "354                               [C01B   3/12, F23K   5/00]   \n",
       "1793                              [C07C   1/04, C10G   2/00]   \n",
       "2018       [C08F  26/06, C08F 220/56, C08G  64/18, C08L  ...   \n",
       "2392       [B01F   7/02, B01F  15/02, B03B   1/00, B03D  ...   \n",
       "3204                 [C07D 307/12, C10L   1/18, C10L  10/12]   \n",
       "...                                                      ...   \n",
       "506455363                         [B01D  53/14, B01D  53/18]   \n",
       "506455827  [A21D   8/00, A21D   8/02, A21D   8/04, A21D  ...   \n",
       "506456602                                      [F25J   3/02]   \n",
       "506457240            [C07C  43/20, C09B  69/10, G01N  33/00]   \n",
       "506457960  [C07C  43/188, C07C  43/20, C09D   5/02, C09D ...   \n",
       "\n",
       "                                            cpc_class_symbol  \n",
       "appln_id                                                      \n",
       "354        [C01B   3/12, C01B   3/48, C01B2203/0288, C01B...  \n",
       "1793       [B01J   8/007, B01J   8/085, B01J   8/1818, B0...  \n",
       "2018       [C08G  77/442, C08G  77/448, C08L  33/14, C08L...  \n",
       "2392       [B01F   3/1221, B01F   7/048, B01F  15/0251, B...  \n",
       "3204       [C07D 307/12, C10L   1/02, C10L   1/1855, C10L...  \n",
       "...                                                      ...  \n",
       "506455363  [B01D  53/1412, B01D  53/1475, B01D  53/18, B0...  \n",
       "506455827  [A21D   2/186, A21D   2/26, A21D   8/047, A21D...  \n",
       "506456602  [B01D   1/06, B01D   1/20, B01D   3/007, C10G ...  \n",
       "506457240  [C08K   5/06, C09D   5/00, C09D   5/004, C09D ...  \n",
       "506457960  [C08K   5/06, C09D   5/004, C09D   5/024, C09D...  \n",
       "\n",
       "[62945 rows x 2 columns]"
      ]
     },
     "execution_count": 51,
     "metadata": {},
     "output_type": "execute_result"
    }
   ],
   "source": [
    "type_2"
   ]
  },
  {
   "cell_type": "markdown",
   "metadata": {},
   "source": [
    "### Save the results in output directory"
   ]
  },
  {
   "cell_type": "code",
   "execution_count": 53,
   "metadata": {},
   "outputs": [],
   "source": [
    "type_1.to_csv('output/type_1.csv')\n",
    "type_2.to_csv('output/type_2.csv')"
   ]
  }
 ],
 "metadata": {
  "kernelspec": {
   "display_name": "Python 3",
   "language": "python",
   "name": "python3"
  },
  "language_info": {
   "codemirror_mode": {
    "name": "ipython",
    "version": 3
   },
   "file_extension": ".py",
   "mimetype": "text/x-python",
   "name": "python",
   "nbconvert_exporter": "python",
   "pygments_lexer": "ipython3",
   "version": "3.7.6"
  }
 },
 "nbformat": 4,
 "nbformat_minor": 4
}
