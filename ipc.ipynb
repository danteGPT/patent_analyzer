{
 "cells": [
  {
   "cell_type": "markdown",
   "metadata": {},
   "source": [
    "### Importing Important Libraries"
   ]
  },
  {
   "cell_type": "code",
   "execution_count": 1,
   "metadata": {},
   "outputs": [],
   "source": [
    "import pandas as pd\n",
    "import parameters as p"
   ]
  },
  {
   "cell_type": "markdown",
   "metadata": {},
   "source": [
    "### Read appln_id related to type_1 or type_2 patents"
   ]
  },
  {
   "cell_type": "code",
   "execution_count": 40,
   "metadata": {},
   "outputs": [],
   "source": [
    "appln_id_1 = pd.read_csv('input/final_type_1.csv')['appln_id']\n",
    "appln_id_2 = pd.read_csv('input/final_type_2.csv')['appln_id']"
   ]
  },
  {
   "cell_type": "code",
   "execution_count": 41,
   "metadata": {},
   "outputs": [
    {
     "data": {
      "text/plain": [
       "0           12343\n",
       "1           78313\n",
       "2          119068\n",
       "3          126543\n",
       "4          194282\n",
       "          ...    \n",
       "1668    458355326\n",
       "1669    469499059\n",
       "1670    473833985\n",
       "1671    493250368\n",
       "1672    496437409\n",
       "Name: appln_id, Length: 1673, dtype: int64"
      ]
     },
     "execution_count": 41,
     "metadata": {},
     "output_type": "execute_result"
    }
   ],
   "source": [
    "appln_id_1"
   ]
  },
  {
   "cell_type": "markdown",
   "metadata": {},
   "source": [
    "### Reading total IPC codes for every appln_id"
   ]
  },
  {
   "cell_type": "raw",
   "metadata": {},
   "source": [
    "ipc = pd.read_pickle('input/ipc_total.pkl')"
   ]
  },
  {
   "cell_type": "markdown",
   "metadata": {},
   "source": [
    "### Extract part of IPC codes related to type_1 and type_2 patents respectively"
   ]
  },
  {
   "cell_type": "code",
   "execution_count": 38,
   "metadata": {},
   "outputs": [],
   "source": [
    "ipc_1 = file[file['appln_id'].isin(appln_id_1)]\n",
    "ipc_2 = file[file['appln_id'].isin(appln_id_2)]"
   ]
  },
  {
   "cell_type": "code",
   "execution_count": 39,
   "metadata": {},
   "outputs": [
    {
     "data": {
      "text/html": [
       "<div>\n",
       "<style scoped>\n",
       "    .dataframe tbody tr th:only-of-type {\n",
       "        vertical-align: middle;\n",
       "    }\n",
       "\n",
       "    .dataframe tbody tr th {\n",
       "        vertical-align: top;\n",
       "    }\n",
       "\n",
       "    .dataframe thead th {\n",
       "        text-align: right;\n",
       "    }\n",
       "</style>\n",
       "<table border=\"1\" class=\"dataframe\">\n",
       "  <thead>\n",
       "    <tr style=\"text-align: right;\">\n",
       "      <th></th>\n",
       "      <th>appln_id</th>\n",
       "      <th>ipc_class_symbol</th>\n",
       "    </tr>\n",
       "  </thead>\n",
       "  <tbody>\n",
       "    <tr>\n",
       "      <th>27938</th>\n",
       "      <td>12343</td>\n",
       "      <td>F01K  13/02</td>\n",
       "    </tr>\n",
       "    <tr>\n",
       "      <th>169027</th>\n",
       "      <td>78313</td>\n",
       "      <td>F23J  15/06</td>\n",
       "    </tr>\n",
       "    <tr>\n",
       "      <th>169028</th>\n",
       "      <td>78313</td>\n",
       "      <td>F23L   7/00</td>\n",
       "    </tr>\n",
       "    <tr>\n",
       "      <th>169029</th>\n",
       "      <td>78313</td>\n",
       "      <td>F23N   3/00</td>\n",
       "    </tr>\n",
       "    <tr>\n",
       "      <th>255858</th>\n",
       "      <td>119068</td>\n",
       "      <td>F01D  19/00</td>\n",
       "    </tr>\n",
       "    <tr>\n",
       "      <th>...</th>\n",
       "      <td>...</td>\n",
       "      <td>...</td>\n",
       "    </tr>\n",
       "    <tr>\n",
       "      <th>87748568</th>\n",
       "      <td>506181002</td>\n",
       "      <td>F01K  11/02</td>\n",
       "    </tr>\n",
       "    <tr>\n",
       "      <th>87748569</th>\n",
       "      <td>506181002</td>\n",
       "      <td>F01K  13/02</td>\n",
       "    </tr>\n",
       "    <tr>\n",
       "      <th>87748570</th>\n",
       "      <td>506181002</td>\n",
       "      <td>F02C   6/00</td>\n",
       "    </tr>\n",
       "    <tr>\n",
       "      <th>87748571</th>\n",
       "      <td>506181002</td>\n",
       "      <td>F02C   7/277</td>\n",
       "    </tr>\n",
       "    <tr>\n",
       "      <th>87748572</th>\n",
       "      <td>506181002</td>\n",
       "      <td>F16D  43/04</td>\n",
       "    </tr>\n",
       "  </tbody>\n",
       "</table>\n",
       "<p>5297 rows × 2 columns</p>\n",
       "</div>"
      ],
      "text/plain": [
       "           appln_id ipc_class_symbol\n",
       "27938         12343      F01K  13/02\n",
       "169027        78313      F23J  15/06\n",
       "169028        78313      F23L   7/00\n",
       "169029        78313      F23N   3/00\n",
       "255858       119068      F01D  19/00\n",
       "...             ...              ...\n",
       "87748568  506181002      F01K  11/02\n",
       "87748569  506181002      F01K  13/02\n",
       "87748570  506181002      F02C   6/00\n",
       "87748571  506181002     F02C   7/277\n",
       "87748572  506181002      F16D  43/04\n",
       "\n",
       "[5297 rows x 2 columns]"
      ]
     },
     "execution_count": 39,
     "metadata": {},
     "output_type": "execute_result"
    }
   ],
   "source": [
    "ipc_1"
   ]
  },
  {
   "cell_type": "markdown",
   "metadata": {},
   "source": [
    "### To combine IPC codes for the rows with same appln_id"
   ]
  },
  {
   "cell_type": "code",
   "execution_count": 42,
   "metadata": {},
   "outputs": [],
   "source": [
    "ipc_1 = ipc_1.groupby('appln_id')['ipc_class_symbol'].unique()\n",
    "ipc_2 = ipc_2.groupby('appln_id')['ipc_class_symbol'].unique()"
   ]
  },
  {
   "cell_type": "code",
   "execution_count": 45,
   "metadata": {},
   "outputs": [
    {
     "data": {
      "text/plain": [
       "appln_id\n",
       "12343                                            [F01K  13/02]\n",
       "78313                  [F23J  15/06, F23L   7/00, F23N   3/00]\n",
       "119068       [F01D  19/00, F01K   3/00, F01K   3/04, F01K  ...\n",
       "126543       [C23C   4/04, C23C  28/02, C23C  28/04, F01D  ...\n",
       "194282                              [C23C  26/00, C23C  28/04]\n",
       "                                   ...                        \n",
       "504988704                                        [F01K  23/10]\n",
       "505207466                           [F02C   6/18, F02C   7/08]\n",
       "505207743                                       [F02C   7/236]\n",
       "505778141              [C22B   7/00, C22C   1/02, C22F   1/10]\n",
       "506181002    [F01D  19/00, F01D  25/10, F01D  25/34, F01K  ...\n",
       "Name: ipc_class_symbol, Length: 1670, dtype: object"
      ]
     },
     "execution_count": 45,
     "metadata": {},
     "output_type": "execute_result"
    }
   ],
   "source": [
    "ipc_1"
   ]
  },
  {
   "cell_type": "code",
   "execution_count": 47,
   "metadata": {},
   "outputs": [],
   "source": [
    "ipc_1.to_pickle('ipc_type_1.pkl')\n",
    "ipc_2.to_pickle('ipc_type_2.pkl')"
   ]
  }
 ],
 "metadata": {
  "kernelspec": {
   "display_name": "Python 3",
   "language": "python",
   "name": "python3"
  },
  "language_info": {
   "codemirror_mode": {
    "name": "ipython",
    "version": 3
   },
   "file_extension": ".py",
   "mimetype": "text/x-python",
   "name": "python",
   "nbconvert_exporter": "python",
   "pygments_lexer": "ipython3",
   "version": "3.7.6"
  }
 },
 "nbformat": 4,
 "nbformat_minor": 4
}
